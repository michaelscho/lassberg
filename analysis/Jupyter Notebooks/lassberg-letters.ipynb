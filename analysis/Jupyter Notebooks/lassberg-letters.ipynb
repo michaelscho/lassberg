{
 "cells": [
  {
   "cell_type": "markdown",
   "id": "a5d1187b",
   "metadata": {},
   "source": [
    "# Briefe vom 'Alten Sepp' - Joseph von Laßberg als Schnittstelle der frühen Mediävistik\n",
    "Einen ersten Zugang zum gelehrten Netzwerk Laßbergs bieten die Metadaten der erhaltenen Briefe. Diese Briefe wurden bereits in den 1990er Jahren in `Harris, Martin: Joseph Maria Christoph Freiherr von Lassberg 1770-1855. Briefinventar und Prosopographie. Mit einer Abhandlung zu Lassbergs Entwicklung zum Altertumsforscher. Die erste geschlossene, wissenschaftlich fundierte Würdigung von Lassbergs Wirken und Werk. Beihefte zum Euphorion Heft 25/C. Heidelberg 1991` gesammelt und entsprechend verzeichnet. Das dort erstelle Register OCR-erkannt, in eine CSV-Datei überführt und mit vorhandenen Normdaten der GND und Wikidata ergänzt. Abschließend wurden aus diesen Daten Personen und Ortsregister in TEI-XML generiert. Die so erstellten digitalen Register liefert nicht nur die Grundlage für eine Edition der Briefe, sondern ermöglichen auch einen ersten datanalytischen Einblick in das Netzwerk, der hier im Entstehen begriffen ist und vorläufigen Charakter hat.\n",
    "\n",
    "## Vorbereitungen\n",
    "Zur Analyse und Visualisierung der Daten greift das vorliegende Notebook auf die Pakete `pandas`, `etree`, `matplotlib`, `seaborn`, `IPython` und `ipywidgets` zurück, ggf. per `pip install` installiert werden müssen. Während die auf diesen Packeten aufbauende Datenanalyse in Github nachvollzogen werden kann, ohne das Notebook auszuführen, müssen die Kartenansichten auf einer lokalen [Jupyter Notebook Installation](https://jupyter-tutorial.readthedocs.io/de/stable/notebook/install.html) ausgeführt werden. Hierfür muss das Paket `ipyleafle` installiert sein."
   ]
  },
  {
   "cell_type": "code",
   "execution_count": 1,
   "id": "26d26a05",
   "metadata": {},
   "outputs": [],
   "source": [
    "# Import of used packages\n",
    "import pandas as pd # for data analysis\n",
    "from lxml import etree # for xml transformation\n",
    "import matplotlib.pyplot as plt # for plotting\n",
    "import seaborn as sns # for pretty plotting\n",
    "from IPython.display import Markdown, display # for pretty print\n",
    "from ipyleaflet import AwesomeIcon, Map, Marker, MarkerCluster, Popup # for mapping\n",
    "from ipywidgets import HTML # for widgets and popups\n",
    "\n",
    "# Function for markdown formatted outputs\n",
    "def printmd(string):\n",
    "    display(Markdown(string))\n",
    "\n",
    "# Load main data from csv register\n",
    "df = pd.read_csv('../../data/register/register.csv', delimiter=';')\n",
    "\n",
    "# Load and parse place register\n",
    "tree = etree.parse('../../data/register/lassberg-places.xml')\n",
    "root = tree.getroot()\n",
    "\n",
    "# Define a list to hold your data\n",
    "data = []\n",
    "\n",
    "# Extract information from each <place> element\n",
    "for place in root.findall('.//{http://www.tei-c.org/ns/1.0}place'):\n",
    "    place_id = place.get('{http://www.w3.org/XML/1998/namespace}id')\n",
    "    place_name = place.find('.//{http://www.tei-c.org/ns/1.0}placeName').text if place.find('.//{http://www.tei-c.org/ns/1.0}placeName') is not None else None\n",
    "    geo = place.find('.//{http://www.tei-c.org/ns/1.0}geo')\n",
    "    coordinates = geo.text if geo is not None else None\n",
    "    \n",
    "    # Append this data to the list\n",
    "    data.append({'place_id': place_id, 'place_name': place_name, 'coordinates': coordinates})\n",
    "\n",
    "# Convert the list to a DataFrame\n",
    "places_df = pd.DataFrame(data)\n",
    "\n",
    "# Splitting the 'coordinates' column into 'latitude' and 'longitude'\n",
    "places_df[['latitude', 'longitude']] = places_df['coordinates'].str.split(',', expand=True)\n",
    "\n",
    "# Convert latitude and longitude to float\n",
    "places_df['latitude'] = pd.to_numeric(places_df['latitude'], errors='coerce')\n",
    "places_df['longitude'] = pd.to_numeric(places_df['longitude'], errors='coerce')"
   ]
  },
  {
   "cell_type": "markdown",
   "id": "e0510f4b",
   "metadata": {},
   "source": [
    "## Überblick Dataframe"
   ]
  },
  {
   "cell_type": "code",
   "execution_count": 2,
   "id": "9b7c1a4a",
   "metadata": {},
   "outputs": [
    {
     "data": {
      "text/markdown": [
       "Information of letters-df: \n"
      ],
      "text/plain": [
       "<IPython.core.display.Markdown object>"
      ]
     },
     "metadata": {},
     "output_type": "display_data"
    },
    {
     "name": "stdout",
     "output_type": "stream",
     "text": [
      "<class 'pandas.core.frame.DataFrame'>\n",
      "RangeIndex: 3265 entries, 0 to 3264\n",
      "Data columns (total 24 columns):\n",
      " #   Column                    Non-Null Count  Dtype  \n",
      "---  ------                    --------------  -----  \n",
      " 0   ID                        3265 non-null   object \n",
      " 1   SENT_FROM_NAME            3265 non-null   object \n",
      " 2   SENT_FROM_ID              3265 non-null   object \n",
      " 3   RECIVED_BY_NAME           3265 non-null   object \n",
      " 4   RECIVED_BY_ID             3265 non-null   object \n",
      " 5   Absendeort                3265 non-null   object \n",
      " 6   Absendeort_id             3265 non-null   object \n",
      " 7   Ankunftsort               0 non-null      float64\n",
      " 8   Ankunftsort_id            0 non-null      float64\n",
      " 9   Nummer_Harris             3265 non-null   int64  \n",
      " 10  Journalnummer             1158 non-null   object \n",
      " 11  Aufbewahrungsort          3150 non-null   object \n",
      " 12  Aufbewahrungsinstitution  3150 non-null   object \n",
      " 13  Signatur                  308 non-null    object \n",
      " 14  iiif_manifest             1 non-null      object \n",
      " 15  published_in              923 non-null    object \n",
      " 16  published_in_url          923 non-null    object \n",
      " 17  Datum                     3265 non-null   object \n",
      " 18  letter_text               100 non-null    object \n",
      " 19  status_letter_text        100 non-null    object \n",
      " 20  summary_en                34 non-null     object \n",
      " 21  persons_mentioned         29 non-null     object \n",
      " 22  topics_mentioned          29 non-null     object \n",
      " 23  normalized_text           29 non-null     object \n",
      "dtypes: float64(2), int64(1), object(21)\n",
      "memory usage: 612.3+ KB\n",
      "None\n"
     ]
    },
    {
     "data": {
      "text/markdown": [
       "Head of letters-df: \n"
      ],
      "text/plain": [
       "<IPython.core.display.Markdown object>"
      ]
     },
     "metadata": {},
     "output_type": "display_data"
    },
    {
     "name": "stdout",
     "output_type": "stream",
     "text": [
      "                     ID          SENT_FROM_NAME                 SENT_FROM_ID  \\\n",
      "0  lassberg-letter-0783      Joseph von Laßberg  lassberg-correspondent-0373   \n",
      "1  lassberg-letter-0788      Joseph von Laßberg  lassberg-correspondent-0373   \n",
      "2  lassberg-letter-0815      Joseph von Laßberg  lassberg-correspondent-0373   \n",
      "3  lassberg-letter-0883      Joseph von Laßberg  lassberg-correspondent-0373   \n",
      "4  lassberg-letter-0884  Johann Heinrich Tanner  lassberg-correspondent-0201   \n",
      "\n",
      "          RECIVED_BY_NAME                RECIVED_BY_ID    Absendeort  \\\n",
      "0  Johann Heinrich Tanner  lassberg-correspondent-0201   Eppishausen   \n",
      "1  Johann Heinrich Tanner  lassberg-correspondent-0201  Heiligenberg   \n",
      "2  Johann Heinrich Tanner  lassberg-correspondent-0201   Eppishausen   \n",
      "3  Johann Heinrich Tanner  lassberg-correspondent-0201   Eppishausen   \n",
      "4      Joseph von Laßberg  lassberg-correspondent-0373         Aarau   \n",
      "\n",
      "         Absendeort_id  Ankunftsort  Ankunftsort_id  Nummer_Harris  ...  \\\n",
      "0  lassberg-place-0043          NaN             NaN            407  ...   \n",
      "1  lassberg-place-0066          NaN             NaN            410  ...   \n",
      "2  lassberg-place-0043          NaN             NaN            424  ...   \n",
      "3  lassberg-place-0043          NaN             NaN            463  ...   \n",
      "4  lassberg-place-0001          NaN             NaN           1992  ...   \n",
      "\n",
      "  iiif_manifest                                       published_in  \\\n",
      "0           NaN  Eduard Vischer, Politik und Freundschaft. Der ...   \n",
      "1           NaN  Eduard Vischer, Politik und Freundschaft. Der ...   \n",
      "2           NaN  Eduard Vischer, Politik und Freundschaft. Der ...   \n",
      "3           NaN  Eduard Vischer, Politik und Freundschaft. Der ...   \n",
      "4           NaN  Eduard Vischer, Politik und Freundschaft. Der ...   \n",
      "\n",
      "                                    published_in_url       Datum letter_text  \\\n",
      "0  https://www.e-periodica.ch/digbib/view?pid=arg...  1822-05-30         NaN   \n",
      "1  https://www.e-periodica.ch/digbib/view?pid=arg...  1822-07-03         NaN   \n",
      "2  https://www.e-periodica.ch/digbib/view?pid=arg...  1822-10-25         NaN   \n",
      "3  https://www.e-periodica.ch/digbib/view?pid=arg...  1823-12-17         NaN   \n",
      "4  https://www.e-periodica.ch/digbib/view?pid=arg...  1823-12-20         NaN   \n",
      "\n",
      "  status_letter_text summary_en persons_mentioned topics_mentioned  \\\n",
      "0                NaN        NaN               NaN              NaN   \n",
      "1                NaN        NaN               NaN              NaN   \n",
      "2                NaN        NaN               NaN              NaN   \n",
      "3                NaN        NaN               NaN              NaN   \n",
      "4                NaN        NaN               NaN              NaN   \n",
      "\n",
      "  normalized_text  \n",
      "0             NaN  \n",
      "1             NaN  \n",
      "2             NaN  \n",
      "3             NaN  \n",
      "4             NaN  \n",
      "\n",
      "[5 rows x 24 columns]\n"
     ]
    },
    {
     "data": {
      "text/markdown": [
       "Information of place-register-df:  \n"
      ],
      "text/plain": [
       "<IPython.core.display.Markdown object>"
      ]
     },
     "metadata": {},
     "output_type": "display_data"
    },
    {
     "name": "stdout",
     "output_type": "stream",
     "text": [
      "<class 'pandas.core.frame.DataFrame'>\n",
      "RangeIndex: 207 entries, 0 to 206\n",
      "Data columns (total 5 columns):\n",
      " #   Column       Non-Null Count  Dtype  \n",
      "---  ------       --------------  -----  \n",
      " 0   place_id     207 non-null    object \n",
      " 1   place_name   207 non-null    object \n",
      " 2   coordinates  204 non-null    object \n",
      " 3   latitude     196 non-null    float64\n",
      " 4   longitude    196 non-null    float64\n",
      "dtypes: float64(2), object(3)\n",
      "memory usage: 8.2+ KB\n",
      "None\n"
     ]
    },
    {
     "data": {
      "text/markdown": [
       "Head of place-register-df: \n"
      ],
      "text/plain": [
       "<IPython.core.display.Markdown object>"
      ]
     },
     "metadata": {},
     "output_type": "display_data"
    },
    {
     "name": "stdout",
     "output_type": "stream",
     "text": [
      "              place_id   place_name             coordinates   latitude  \\\n",
      "0  lassberg-place-0001        Aarau               47.4,8.05  47.400000   \n",
      "1  lassberg-place-0002  Ägeri (Zug)      47.136104,8.613887  47.136104   \n",
      "2  lassberg-place-0003         Alme      51.455833,8.620278  51.455833   \n",
      "3  lassberg-place-0004      Altenau                       -        NaN   \n",
      "4  lassberg-place-0005      Altikon  47.56666667,8.78333333  47.566667   \n",
      "\n",
      "   longitude  \n",
      "0   8.050000  \n",
      "1   8.613887  \n",
      "2   8.620278  \n",
      "3        NaN  \n",
      "4   8.783333  \n"
     ]
    }
   ],
   "source": [
    "# Overview of main dataframe\n",
    "printmd(f\"Information of letters-df: \\n\")\n",
    "print(df.info())\n",
    "printmd(f\"Head of letters-df: \\n\")\n",
    "print(df.head())\n",
    "printmd(f\"Information of place-register-df:  \\n\")\n",
    "print(places_df.info())\n",
    "printmd(f\"Head of place-register-df: \\n\")\n",
    "print(places_df.head())"
   ]
  },
  {
   "cell_type": "markdown",
   "id": "369c284d",
   "metadata": {},
   "source": [
    "## Datenexploration\n",
    "### Persons"
   ]
  },
  {
   "cell_type": "code",
   "execution_count": 3,
   "id": "7fa84c18",
   "metadata": {},
   "outputs": [
    {
     "data": {
      "text/markdown": [
       "**Total number of letters:** 3265"
      ],
      "text/plain": [
       "<IPython.core.display.Markdown object>"
      ]
     },
     "metadata": {},
     "output_type": "display_data"
    },
    {
     "data": {
      "text/markdown": [
       "**Letters written by Joseph von Laßberg:** 1565 (47 %)"
      ],
      "text/plain": [
       "<IPython.core.display.Markdown object>"
      ]
     },
     "metadata": {},
     "output_type": "display_data"
    },
    {
     "data": {
      "text/markdown": [
       "**Letters written by others:** 1700 (52 %)"
      ],
      "text/plain": [
       "<IPython.core.display.Markdown object>"
      ]
     },
     "metadata": {},
     "output_type": "display_data"
    },
    {
     "data": {
      "text/markdown": [
       "**Unique correspondences:** 372"
      ],
      "text/plain": [
       "<IPython.core.display.Markdown object>"
      ]
     },
     "metadata": {},
     "output_type": "display_data"
    }
   ],
   "source": [
    "# Total letters in dataset\n",
    "total_letters = df.shape[0]\n",
    "printmd(f\"**Total number of letters:** {total_letters}\")\n",
    "\n",
    "# Letters from Lassberg\n",
    "lassberg_letters = df[df['SENT_FROM_NAME'] == 'Joseph von Laßberg'].shape[0]\n",
    "printmd(f\"**Letters written by Joseph von Laßberg:** {lassberg_letters} ({int(lassberg_letters/total_letters*100)} %)\")\n",
    "printmd(f\"**Letters written by others:** {3265 - lassberg_letters} ({int(100 - (lassberg_letters/total_letters*100))} %)\")\n",
    "\n",
    "# Unique correspondences\n",
    "unique_correspondences = pd.concat([df['SENT_FROM_ID'], df['RECIVED_BY_ID']]).drop_duplicates().shape[0]\n",
    "printmd(f\"**Unique correspondences:** {unique_correspondences - 1}\")"
   ]
  },
  {
   "cell_type": "code",
   "execution_count": 4,
   "id": "86956a18",
   "metadata": {},
   "outputs": [
    {
     "data": {
      "text/markdown": [
       "**Top 20 participants in correspondence:**\n"
      ],
      "text/plain": [
       "<IPython.core.display.Markdown object>"
      ]
     },
     "metadata": {},
     "output_type": "display_data"
    },
    {
     "data": {
      "text/markdown": [
       "**Joseph von Laßberg** *1565* sent, *1700* recieved, *total: 3265*"
      ],
      "text/plain": [
       "<IPython.core.display.Markdown object>"
      ]
     },
     "metadata": {},
     "output_type": "display_data"
    },
    {
     "data": {
      "text/markdown": [
       "**Elisabeth zu Fürstenberg** *25* sent, *165* recieved, *total: 190*"
      ],
      "text/plain": [
       "<IPython.core.display.Markdown object>"
      ]
     },
     "metadata": {},
     "output_type": "display_data"
    },
    {
     "data": {
      "text/markdown": [
       "**Hermann von Liebenau** *6* sent, *137* recieved, *total: 143*"
      ],
      "text/plain": [
       "<IPython.core.display.Markdown object>"
      ]
     },
     "metadata": {},
     "output_type": "display_data"
    },
    {
     "data": {
      "text/markdown": [
       "**Johann Adam Pupikofer** *96* sent, *47* recieved, *total: 143*"
      ],
      "text/plain": [
       "<IPython.core.display.Markdown object>"
      ]
     },
     "metadata": {},
     "output_type": "display_data"
    },
    {
     "data": {
      "text/markdown": [
       "**Johann Caspar Zellweger** *87* sent, *55* recieved, *total: 142*"
      ],
      "text/plain": [
       "<IPython.core.display.Markdown object>"
      ]
     },
     "metadata": {},
     "output_type": "display_data"
    },
    {
     "data": {
      "text/markdown": [
       "**Ludwig Uhland** *50* sent, *70* recieved, *total: 120*"
      ],
      "text/plain": [
       "<IPython.core.display.Markdown object>"
      ]
     },
     "metadata": {},
     "output_type": "display_data"
    },
    {
     "data": {
      "text/markdown": [
       "**Christian Wilhelm Sixt von Armin** *85* sent, *2* recieved, *total: 87*"
      ],
      "text/plain": [
       "<IPython.core.display.Markdown object>"
      ]
     },
     "metadata": {},
     "output_type": "display_data"
    },
    {
     "data": {
      "text/markdown": [
       "**Gustav Schwab** *44* sent, *42* recieved, *total: 86*"
      ],
      "text/plain": [
       "<IPython.core.display.Markdown object>"
      ]
     },
     "metadata": {},
     "output_type": "display_data"
    },
    {
     "data": {
      "text/markdown": [
       "**Jacob Grimm** *33* sent, *47* recieved, *total: 80*"
      ],
      "text/plain": [
       "<IPython.core.display.Markdown object>"
      ]
     },
     "metadata": {},
     "output_type": "display_data"
    },
    {
     "data": {
      "text/markdown": [
       "**Bernhard Zeerleder** *75* sent, *0* recieved, *total: 75*"
      ],
      "text/plain": [
       "<IPython.core.display.Markdown object>"
      ]
     },
     "metadata": {},
     "output_type": "display_data"
    },
    {
     "data": {
      "text/markdown": [
       "**Ildefons von Arx** *25* sent, *43* recieved, *total: 68*"
      ],
      "text/plain": [
       "<IPython.core.display.Markdown object>"
      ]
     },
     "metadata": {},
     "output_type": "display_data"
    },
    {
     "data": {
      "text/markdown": [
       "**Melchior Kirchhofer** *61* sent, *0* recieved, *total: 61*"
      ],
      "text/plain": [
       "<IPython.core.display.Markdown object>"
      ]
     },
     "metadata": {},
     "output_type": "display_data"
    },
    {
     "data": {
      "text/markdown": [
       "**Egbert Friedrich von Mülinen** *31* sent, *29* recieved, *total: 60*"
      ],
      "text/plain": [
       "<IPython.core.display.Markdown object>"
      ]
     },
     "metadata": {},
     "output_type": "display_data"
    },
    {
     "data": {
      "text/markdown": [
       "**Carl Johann Greith** *38* sent, *17* recieved, *total: 55*"
      ],
      "text/plain": [
       "<IPython.core.display.Markdown object>"
      ]
     },
     "metadata": {},
     "output_type": "display_data"
    },
    {
     "data": {
      "text/markdown": [
       "**Philipp Lüthard** *14* sent, *39* recieved, *total: 53*"
      ],
      "text/plain": [
       "<IPython.core.display.Markdown object>"
      ]
     },
     "metadata": {},
     "output_type": "display_data"
    },
    {
     "data": {
      "text/markdown": [
       "**Wilhelm Wackernagel** *27* sent, *20* recieved, *total: 47*"
      ],
      "text/plain": [
       "<IPython.core.display.Markdown object>"
      ]
     },
     "metadata": {},
     "output_type": "display_data"
    },
    {
     "data": {
      "text/markdown": [
       "**Ludwig von Madroux** *46* sent, *1* recieved, *total: 47*"
      ],
      "text/plain": [
       "<IPython.core.display.Markdown object>"
      ]
     },
     "metadata": {},
     "output_type": "display_data"
    },
    {
     "data": {
      "text/markdown": [
       "**Jenny von Droste zu Hülshoff** *46* sent, *0* recieved, *total: 46*"
      ],
      "text/plain": [
       "<IPython.core.display.Markdown object>"
      ]
     },
     "metadata": {},
     "output_type": "display_data"
    },
    {
     "data": {
      "text/markdown": [
       "**Johann Leonhard Hug** *1* sent, *44* recieved, *total: 45*"
      ],
      "text/plain": [
       "<IPython.core.display.Markdown object>"
      ]
     },
     "metadata": {},
     "output_type": "display_data"
    },
    {
     "data": {
      "text/markdown": [
       "**Karl Egon III. zu Fürstenberg** *7* sent, *38* recieved, *total: 45*"
      ],
      "text/plain": [
       "<IPython.core.display.Markdown object>"
      ]
     },
     "metadata": {},
     "output_type": "display_data"
    },
    {
     "data": {
      "text/markdown": [
       "**Median number of letters per correspondence: 2**"
      ],
      "text/plain": [
       "<IPython.core.display.Markdown object>"
      ]
     },
     "metadata": {},
     "output_type": "display_data"
    }
   ],
   "source": [
    "# Top 20 correspondence differenciated in sending and recieving\n",
    "# Count letters\n",
    "from_counts = df['SENT_FROM_NAME'].value_counts()\n",
    "to_counts = df['RECIVED_BY_NAME'].value_counts()\n",
    "\n",
    "# Combining counts and sorting\n",
    "total_counts = from_counts.add(to_counts, fill_value=0).sort_values(ascending=False)\n",
    "\n",
    "# Get top 20 participants\n",
    "top_20_participants = total_counts.head(20)\n",
    "\n",
    "# Display 'from', 'to', and total counts for top 20 participants\n",
    "printmd(\"**Top 20 participants in correspondence:**\\n\")\n",
    "for participant in top_20_participants.index:\n",
    "    from_count = from_counts.get(participant, 0)\n",
    "    to_count = to_counts.get(participant, 0)\n",
    "    total_count = top_20_participants[participant]\n",
    "    printmd(f\"**{participant}** *{from_count}* sent, *{to_count}* recieved, *total: {int(total_count)}*\")\n",
    "    \n",
    "# Get Median\n",
    "median = total_counts.median()\n",
    "printmd(f\"**Median number of letters per correspondence: {int(median)}**\")"
   ]
  },
  {
   "cell_type": "code",
   "execution_count": 5,
   "id": "39b17dc1",
   "metadata": {},
   "outputs": [
    {
     "data": {
      "text/markdown": [
       "**Top 20 participants in correspondence ordered by number of sent letters:**\n"
      ],
      "text/plain": [
       "<IPython.core.display.Markdown object>"
      ]
     },
     "metadata": {},
     "output_type": "display_data"
    },
    {
     "data": {
      "text/markdown": [
       "**Joseph von Laßberg** *1565* sent, *1700* recieved, *1565*"
      ],
      "text/plain": [
       "<IPython.core.display.Markdown object>"
      ]
     },
     "metadata": {},
     "output_type": "display_data"
    },
    {
     "data": {
      "text/markdown": [
       "**Johann Adam Pupikofer** *96* sent, *47* recieved, *96*"
      ],
      "text/plain": [
       "<IPython.core.display.Markdown object>"
      ]
     },
     "metadata": {},
     "output_type": "display_data"
    },
    {
     "data": {
      "text/markdown": [
       "**Johann Caspar Zellweger** *87* sent, *55* recieved, *87*"
      ],
      "text/plain": [
       "<IPython.core.display.Markdown object>"
      ]
     },
     "metadata": {},
     "output_type": "display_data"
    },
    {
     "data": {
      "text/markdown": [
       "**Christian Wilhelm Sixt von Armin** *85* sent, *2* recieved, *85*"
      ],
      "text/plain": [
       "<IPython.core.display.Markdown object>"
      ]
     },
     "metadata": {},
     "output_type": "display_data"
    },
    {
     "data": {
      "text/markdown": [
       "**Bernhard Zeerleder** *75* sent, *0* recieved, *75*"
      ],
      "text/plain": [
       "<IPython.core.display.Markdown object>"
      ]
     },
     "metadata": {},
     "output_type": "display_data"
    },
    {
     "data": {
      "text/markdown": [
       "**Melchior Kirchhofer** *61* sent, *0* recieved, *61*"
      ],
      "text/plain": [
       "<IPython.core.display.Markdown object>"
      ]
     },
     "metadata": {},
     "output_type": "display_data"
    },
    {
     "data": {
      "text/markdown": [
       "**Ludwig Uhland** *50* sent, *70* recieved, *50*"
      ],
      "text/plain": [
       "<IPython.core.display.Markdown object>"
      ]
     },
     "metadata": {},
     "output_type": "display_data"
    },
    {
     "data": {
      "text/markdown": [
       "**Ludwig von Madroux** *46* sent, *1* recieved, *46*"
      ],
      "text/plain": [
       "<IPython.core.display.Markdown object>"
      ]
     },
     "metadata": {},
     "output_type": "display_data"
    },
    {
     "data": {
      "text/markdown": [
       "**Jenny von Droste zu Hülshoff** *46* sent, *0* recieved, *46*"
      ],
      "text/plain": [
       "<IPython.core.display.Markdown object>"
      ]
     },
     "metadata": {},
     "output_type": "display_data"
    },
    {
     "data": {
      "text/markdown": [
       "**Gustav Schwab** *44* sent, *42* recieved, *44*"
      ],
      "text/plain": [
       "<IPython.core.display.Markdown object>"
      ]
     },
     "metadata": {},
     "output_type": "display_data"
    },
    {
     "data": {
      "text/markdown": [
       "**Carl Johann Greith** *38* sent, *17* recieved, *38*"
      ],
      "text/plain": [
       "<IPython.core.display.Markdown object>"
      ]
     },
     "metadata": {},
     "output_type": "display_data"
    },
    {
     "data": {
      "text/markdown": [
       "**Jacob Grimm** *33* sent, *47* recieved, *33*"
      ],
      "text/plain": [
       "<IPython.core.display.Markdown object>"
      ]
     },
     "metadata": {},
     "output_type": "display_data"
    },
    {
     "data": {
      "text/markdown": [
       "**Egbert Friedrich von Mülinen** *31* sent, *29* recieved, *31*"
      ],
      "text/plain": [
       "<IPython.core.display.Markdown object>"
      ]
     },
     "metadata": {},
     "output_type": "display_data"
    },
    {
     "data": {
      "text/markdown": [
       "**Wilhelm Wackernagel** *27* sent, *20* recieved, *27*"
      ],
      "text/plain": [
       "<IPython.core.display.Markdown object>"
      ]
     },
     "metadata": {},
     "output_type": "display_data"
    },
    {
     "data": {
      "text/markdown": [
       "**Franz Karl Grieshaber** *26* sent, *8* recieved, *26*"
      ],
      "text/plain": [
       "<IPython.core.display.Markdown object>"
      ]
     },
     "metadata": {},
     "output_type": "display_data"
    },
    {
     "data": {
      "text/markdown": [
       "**Ildefons von Arx** *25* sent, *43* recieved, *25*"
      ],
      "text/plain": [
       "<IPython.core.display.Markdown object>"
      ]
     },
     "metadata": {},
     "output_type": "display_data"
    },
    {
     "data": {
      "text/markdown": [
       "**Elisabeth zu Fürstenberg** *25* sent, *165* recieved, *25*"
      ],
      "text/plain": [
       "<IPython.core.display.Markdown object>"
      ]
     },
     "metadata": {},
     "output_type": "display_data"
    },
    {
     "data": {
      "text/markdown": [
       "**Emil Braun** *24* sent, *5* recieved, *24*"
      ],
      "text/plain": [
       "<IPython.core.display.Markdown object>"
      ]
     },
     "metadata": {},
     "output_type": "display_data"
    },
    {
     "data": {
      "text/markdown": [
       "**Johann Heinrich Nepomuk Schreiber** *22* sent, *0* recieved, *22*"
      ],
      "text/plain": [
       "<IPython.core.display.Markdown object>"
      ]
     },
     "metadata": {},
     "output_type": "display_data"
    },
    {
     "data": {
      "text/markdown": [
       "**Karl Anton Friedrich Meinrad Fidelis von Hohenzollern-Sigmaringen** *22* sent, *2* recieved, *22*"
      ],
      "text/plain": [
       "<IPython.core.display.Markdown object>"
      ]
     },
     "metadata": {},
     "output_type": "display_data"
    }
   ],
   "source": [
    "# Top 20 correspondence ordered by sent letters\n",
    "\n",
    "# Get top 20 participants\n",
    "top_20_participants = from_counts.head(20)\n",
    "\n",
    "# Display 'from', 'to', and total counts for top 20 participants\n",
    "printmd(\"**Top 20 participants in correspondence ordered by number of sent letters:**\\n\")\n",
    "for participant in top_20_participants.index:\n",
    "    from_count = from_counts.get(participant, 0)\n",
    "    to_count = to_counts.get(participant, 0)\n",
    "    total_count = top_20_participants[participant]\n",
    "    printmd(f\"**{participant}** *{from_count}* sent, *{to_count}* recieved, *{total_count}*\")"
   ]
  },
  {
   "cell_type": "code",
   "execution_count": 6,
   "id": "b7d9c5bf",
   "metadata": {},
   "outputs": [
    {
     "data": {
      "text/markdown": [
       "**Top 20 participants in correspondence ordered by received letters:**\n"
      ],
      "text/plain": [
       "<IPython.core.display.Markdown object>"
      ]
     },
     "metadata": {},
     "output_type": "display_data"
    },
    {
     "data": {
      "text/markdown": [
       "**Joseph von Laßberg** *1565* sent, *1700* recieved, *1700*"
      ],
      "text/plain": [
       "<IPython.core.display.Markdown object>"
      ]
     },
     "metadata": {},
     "output_type": "display_data"
    },
    {
     "data": {
      "text/markdown": [
       "**Elisabeth zu Fürstenberg** *25* sent, *165* recieved, *165*"
      ],
      "text/plain": [
       "<IPython.core.display.Markdown object>"
      ]
     },
     "metadata": {},
     "output_type": "display_data"
    },
    {
     "data": {
      "text/markdown": [
       "**Hermann von Liebenau** *6* sent, *137* recieved, *137*"
      ],
      "text/plain": [
       "<IPython.core.display.Markdown object>"
      ]
     },
     "metadata": {},
     "output_type": "display_data"
    },
    {
     "data": {
      "text/markdown": [
       "**Ludwig Uhland** *50* sent, *70* recieved, *70*"
      ],
      "text/plain": [
       "<IPython.core.display.Markdown object>"
      ]
     },
     "metadata": {},
     "output_type": "display_data"
    },
    {
     "data": {
      "text/markdown": [
       "**Johann Caspar Zellweger** *87* sent, *55* recieved, *55*"
      ],
      "text/plain": [
       "<IPython.core.display.Markdown object>"
      ]
     },
     "metadata": {},
     "output_type": "display_data"
    },
    {
     "data": {
      "text/markdown": [
       "**Jacob Grimm** *33* sent, *47* recieved, *47*"
      ],
      "text/plain": [
       "<IPython.core.display.Markdown object>"
      ]
     },
     "metadata": {},
     "output_type": "display_data"
    },
    {
     "data": {
      "text/markdown": [
       "**Johann Adam Pupikofer** *96* sent, *47* recieved, *47*"
      ],
      "text/plain": [
       "<IPython.core.display.Markdown object>"
      ]
     },
     "metadata": {},
     "output_type": "display_data"
    },
    {
     "data": {
      "text/markdown": [
       "**Johann Leonhard Hug** *1* sent, *44* recieved, *44*"
      ],
      "text/plain": [
       "<IPython.core.display.Markdown object>"
      ]
     },
     "metadata": {},
     "output_type": "display_data"
    },
    {
     "data": {
      "text/markdown": [
       "**Ildefons von Arx** *25* sent, *43* recieved, *43*"
      ],
      "text/plain": [
       "<IPython.core.display.Markdown object>"
      ]
     },
     "metadata": {},
     "output_type": "display_data"
    },
    {
     "data": {
      "text/markdown": [
       "**Gustav Schwab** *44* sent, *42* recieved, *42*"
      ],
      "text/plain": [
       "<IPython.core.display.Markdown object>"
      ]
     },
     "metadata": {},
     "output_type": "display_data"
    },
    {
     "data": {
      "text/markdown": [
       "**Philipp Lüthard** *14* sent, *39* recieved, *39*"
      ],
      "text/plain": [
       "<IPython.core.display.Markdown object>"
      ]
     },
     "metadata": {},
     "output_type": "display_data"
    },
    {
     "data": {
      "text/markdown": [
       "**Karl Egon III. zu Fürstenberg** *7* sent, *38* recieved, *38*"
      ],
      "text/plain": [
       "<IPython.core.display.Markdown object>"
      ]
     },
     "metadata": {},
     "output_type": "display_data"
    },
    {
     "data": {
      "text/markdown": [
       "**Friedrich Carl von und zu Brenken** *1* sent, *35* recieved, *35*"
      ],
      "text/plain": [
       "<IPython.core.display.Markdown object>"
      ]
     },
     "metadata": {},
     "output_type": "display_data"
    },
    {
     "data": {
      "text/markdown": [
       "**Unbekannt** *9* sent, *35* recieved, *35*"
      ],
      "text/plain": [
       "<IPython.core.display.Markdown object>"
      ]
     },
     "metadata": {},
     "output_type": "display_data"
    },
    {
     "data": {
      "text/markdown": [
       "**Johann Daniel Wilhelm Hartmann** *3* sent, *31* recieved, *31*"
      ],
      "text/plain": [
       "<IPython.core.display.Markdown object>"
      ]
     },
     "metadata": {},
     "output_type": "display_data"
    },
    {
     "data": {
      "text/markdown": [
       "**Egbert Friedrich von Mülinen** *31* sent, *29* recieved, *29*"
      ],
      "text/plain": [
       "<IPython.core.display.Markdown object>"
      ]
     },
     "metadata": {},
     "output_type": "display_data"
    },
    {
     "data": {
      "text/markdown": [
       "**Joseph Thaddäus von Reischach** *0* sent, *28* recieved, *28*"
      ],
      "text/plain": [
       "<IPython.core.display.Markdown object>"
      ]
     },
     "metadata": {},
     "output_type": "display_data"
    },
    {
     "data": {
      "text/markdown": [
       "**Johann Rudolf Wyss** *18* sent, *21* recieved, *21*"
      ],
      "text/plain": [
       "<IPython.core.display.Markdown object>"
      ]
     },
     "metadata": {},
     "output_type": "display_data"
    },
    {
     "data": {
      "text/markdown": [
       "**Johann Heinrich Tanner** *21* sent, *21* recieved, *21*"
      ],
      "text/plain": [
       "<IPython.core.display.Markdown object>"
      ]
     },
     "metadata": {},
     "output_type": "display_data"
    },
    {
     "data": {
      "text/markdown": [
       "**Franz Simon von Pfaffenhofen** *9* sent, *20* recieved, *20*"
      ],
      "text/plain": [
       "<IPython.core.display.Markdown object>"
      ]
     },
     "metadata": {},
     "output_type": "display_data"
    }
   ],
   "source": [
    "# Top 20 correspondence receiving\n",
    "\n",
    "# Get top 20 participants\n",
    "top_20_participants = to_counts.head(20)\n",
    "\n",
    "# Display 'from', 'to', and total counts for top 20 participants\n",
    "printmd(\"**Top 20 participants in correspondence ordered by received letters:**\\n\")\n",
    "for participant in top_20_participants.index:\n",
    "    from_count = from_counts.get(participant, 0)\n",
    "    to_count = to_counts.get(participant, 0)\n",
    "    total_count = top_20_participants[participant]\n",
    "    printmd(f\"**{participant}** *{from_count}* sent, *{to_count}* recieved, *{total_count}*\")"
   ]
  },
  {
   "cell_type": "markdown",
   "id": "492962a2",
   "metadata": {},
   "source": [
    "### Places"
   ]
  },
  {
   "cell_type": "code",
   "execution_count": 7,
   "id": "7af9fce0",
   "metadata": {
    "tags": []
   },
   "outputs": [
    {
     "data": {
      "text/markdown": [
       "**Unique places:** 172"
      ],
      "text/plain": [
       "<IPython.core.display.Markdown object>"
      ]
     },
     "metadata": {},
     "output_type": "display_data"
    },
    {
     "name": "stdout",
     "output_type": "stream",
     "text": [
      "Absendeort\n",
      "Eppishausen                        628\n",
      "Meersburg                          487\n",
      "Unbekannt                          322\n",
      "Donaueschingen                     158\n",
      "Stuttgart                          115\n",
      "Heiligenberg                       114\n",
      "Bischofszell                        85\n",
      "Trogen (Appenzell Ausserrhoden)     84\n",
      "Konstanz                            77\n",
      "Bern                                69\n",
      "Tübingen                            68\n",
      "St. Gallen                          67\n",
      "Zürich                              65\n",
      "Stein                               61\n",
      "Steinegg                            48\n",
      "München                             38\n",
      "Freiburg i. Brsg                    36\n",
      "Aarau                               36\n",
      "Koblenz                             35\n",
      "Göttingen                           28\n",
      "Sigmaringen                         27\n",
      "Basel                               26\n",
      "Rastatt                             26\n",
      "Rosenberg                           25\n",
      "Baden (Aargau)                      23\n",
      "Berlin                              22\n",
      "Schaffhausen                        22\n",
      "Kassel                              20\n",
      "Wien                                17\n",
      "Weisbad                             17\n",
      "Karlsruhe                           15\n",
      "Krauchenwies                        15\n",
      "Augsburg                            14\n",
      "Bregenz                             13\n",
      "Mannheim                            13\n",
      "Ansbach                             12\n",
      "Thun                                11\n",
      "Rüschhaus                           11\n",
      "Luzern                              10\n",
      "Frauenfeld                           9\n",
      "Winterthur                           9\n",
      "Hugstetten                           9\n",
      "Rottenburg                           8\n",
      "Scheer                               8\n",
      "Radolfzell                           7\n",
      "Arenenberg                           7\n",
      "Leipzig                              6\n",
      "Bückeburg                            6\n",
      "Florenz                              6\n",
      "Baden-Baden                          6\n",
      "Name: count, dtype: int64\n"
     ]
    }
   ],
   "source": [
    "sent_from_counts = df['Absendeort'].value_counts()\n",
    "\n",
    "# Unique places\n",
    "unique_places = df[['Absendeort']].drop_duplicates().shape[0]\n",
    "printmd(f\"**Unique places:** {unique_places}\")\n",
    "\n",
    "# Display the result\n",
    "print(sent_from_counts.head(50))"
   ]
  },
  {
   "cell_type": "code",
   "execution_count": 8,
   "id": "5b46fdfd",
   "metadata": {
    "tags": []
   },
   "outputs": [
    {
     "data": {
      "text/markdown": [
       "Kartographische Darstellung der Absendeort (Blau = Brief an Laßberg, Rot = Brief von Laßberg): \n"
      ],
      "text/plain": [
       "<IPython.core.display.Markdown object>"
      ]
     },
     "metadata": {},
     "output_type": "display_data"
    },
    {
     "data": {
      "application/vnd.jupyter.widget-view+json": {
       "model_id": "b6d48752e8f5462e937dfe96020c88ff",
       "version_major": 2,
       "version_minor": 0
      },
      "text/plain": [
       "Map(center=[50, 10], controls=(ZoomControl(options=['position', 'zoom_in_text', 'zoom_in_title', 'zoom_out_tex…"
      ]
     },
     "execution_count": 8,
     "metadata": {},
     "output_type": "execute_result"
    }
   ],
   "source": [
    "# Create interactive map (not displayed on Github)\n",
    "# merge place register with dataset\n",
    "df_for_map = pd.merge(df, places_df, left_on='Absendeort_id', right_on='place_id', how='left')\n",
    "\n",
    "# Ensure latitude and longitude are numeric\n",
    "#merged_df['latitude'] = pd.to_numeric(merged_df['latitude'], errors='coerce')\n",
    "#merged_df['longitude'] = pd.to_numeric(merged_df['longitude'], errors='coerce')\n",
    "\n",
    "# Remove rows with missing or invalid coordinates\n",
    "valid_locations = df_for_map.dropna(subset=['latitude', 'longitude'])\n",
    "\n",
    "# Create a Map instance\n",
    "m = Map(center=(50, 10), zoom=4)  # Adjust the center and zoom level\n",
    "\n",
    "# Create different icons for sent and received letters\n",
    "icon_sent_from_by_lassberg = AwesomeIcon(\n",
    "    name = 'fa-paper-plane',\n",
    "    marker_color='red',\n",
    "    icon_color='black',\n",
    "    spin=False\n",
    ")\n",
    "icon_sent_from_to_lassberg = AwesomeIcon(\n",
    "    name = 'fa-paper-plane',\n",
    "    marker_color='blue',\n",
    "    icon_color='black',\n",
    "    spin=False\n",
    ")\n",
    "\n",
    "# Create markers and add them to a MarkerCluster\n",
    "markers = []\n",
    "for _, row in valid_locations.iterrows():\n",
    "    message_popoup = HTML()\n",
    "    message_popoup.value = f\"Letter from {row['SENT_FROM_NAME']} to {row['RECIVED_BY_NAME']} dated {row['Datum']}, Harris: {row['Nummer_Harris']}, ID: {row['ID']}\"\n",
    "    \n",
    "    if row['SENT_FROM_ID'] == 'lassberg-correspondent-0373':\n",
    "        marker = Marker(icon=icon_sent_from_by_lassberg, location=(row['latitude'], row['longitude']))\n",
    "    else:\n",
    "        marker = Marker(icon=icon_sent_from_to_lassberg, location=(row['latitude'], row['longitude']))\n",
    "    marker.popup = message_popoup\n",
    "    markers.append(marker)\n",
    "\n",
    "marker_cluster = MarkerCluster(markers=markers)\n",
    "m.add_layer(marker_cluster)\n",
    "\n",
    "# Display the map\n",
    "printmd(f\"Kartographische Darstellung der Absendeort (Blau = Brief an Laßberg, Rot = Brief von Laßberg): \\n\")\n",
    "m"
   ]
  },
  {
   "cell_type": "code",
   "execution_count": null,
   "id": "f549b126",
   "metadata": {},
   "outputs": [],
   "source": [
    "\n"
   ]
  }
 ],
 "metadata": {
  "kernelspec": {
   "display_name": "Python 3 (ipykernel)",
   "language": "python",
   "name": "python3"
  },
  "language_info": {
   "codemirror_mode": {
    "name": "ipython",
    "version": 3
   },
   "file_extension": ".py",
   "mimetype": "text/x-python",
   "name": "python",
   "nbconvert_exporter": "python",
   "pygments_lexer": "ipython3",
   "version": "3.11.5"
  }
 },
 "nbformat": 4,
 "nbformat_minor": 5
}
