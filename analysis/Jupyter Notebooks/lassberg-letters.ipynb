{
 "cells": [
  {
   "cell_type": "markdown",
   "id": "a5d1187b",
   "metadata": {},
   "source": [
    "# Briefe vom 'Alten Sepp' - Joseph von Laßberg als Schnittstelle der frühen Mediävistik\n",
    "Einen ersten Zugang zum gelehrten Netzwerk Laßbergs bieten die Metadaten der erhaltenen Briefe. Diese Briefe wurden bereits in den 1990er Jahren in `Harris, Martin: Joseph Maria Christoph Freiherr von Lassberg 1770-1855. Briefinventar und Prosopographie. Mit einer Abhandlung zu Lassbergs Entwicklung zum Altertumsforscher. Die erste geschlossene, wissenschaftlich fundierte Würdigung von Lassbergs Wirken und Werk. Beihefte zum Euphorion Heft 25/C. Heidelberg 1991` gesammelt und entsprechend verzeichnet. Das dort erstelle Register OCR-erkannt, in eine CSV-Datei überführt und mit vorhandenen Normdaten der GND und Wikidata ergänzt. Abschließend wurden aus diesen Daten Personen und Ortsregister in TEI-XML generiert. Die so erstellten digitalen Register liefert nicht nur die Grundlage für eine Edition der Briefe, sondern ermöglichen auch einen ersten datanalytischen Einblick in das Netzwerk, der hier im Entstehen begriffen ist und vorläufigen Charakter hat.\n",
    "\n",
    "## Vorbereitungen\n",
    "Zur Analyse und Visualisierung der Daten greift das vorliegende Notebook auf die Pakete `pandas`, `etree`, `matplotlib`, `seaborn`, `IPython` und `ipywidgets` zurück, ggf. per `pip install` installiert werden müssen. Während die auf diesen Packeten aufbauende Datenanalyse in Github nachvollzogen werden kann, ohne das Notebook auszuführen, müssen die Kartenansichten auf einer lokalen [Jupyter Notebook Installation](https://jupyter-tutorial.readthedocs.io/de/stable/notebook/install.html) ausgeführt werden. Hierfür muss das Paket `ipyleafle` installiert sein."
   ]
  },
  {
   "cell_type": "code",
   "execution_count": null,
   "id": "26d26a05",
   "metadata": {},
   "outputs": [],
   "source": [
    "# Import of used packages\n",
    "import pandas as pd # for data analysis\n",
    "from lxml import etree # for xml transformation\n",
    "import matplotlib.pyplot as plt # for plotting\n",
    "import seaborn as sns # for pretty plotting\n",
    "from IPython.display import Markdown, display # for pretty print\n",
    "from ipyleaflet import AwesomeIcon, Map, Marker, MarkerCluster, Popup # for mapping\n",
    "from ipywidgets import HTML # for widgets and popups\n",
    "\n",
    "# Function for markdown formatted outputs\n",
    "def printmd(string):\n",
    "    display(Markdown(string))\n",
    "\n",
    "# Load main data from csv register\n",
    "df = pd.read_csv('../../data/register/register.csv', delimiter=';')\n",
    "\n",
    "# Load and parse place register\n",
    "tree = etree.parse('../../data/register/lassberg-places.xml')\n",
    "root = tree.getroot()\n",
    "\n",
    "# Define a list to hold your data\n",
    "data = []\n",
    "\n",
    "# Extract information from each <place> element\n",
    "for place in root.findall('.//{http://www.tei-c.org/ns/1.0}place'):\n",
    "    place_id = place.get('{http://www.w3.org/XML/1998/namespace}id')\n",
    "    place_name = place.find('.//{http://www.tei-c.org/ns/1.0}placeName').text if place.find('.//{http://www.tei-c.org/ns/1.0}placeName') is not None else None\n",
    "    geo = place.find('.//{http://www.tei-c.org/ns/1.0}geo')\n",
    "    coordinates = geo.text if geo is not None else None\n",
    "    \n",
    "    # Append this data to the list\n",
    "    data.append({'place_id': place_id, 'place_name': place_name, 'coordinates': coordinates})\n",
    "\n",
    "# Convert the list to a DataFrame\n",
    "places_df = pd.DataFrame(data)\n",
    "\n",
    "# Splitting the 'coordinates' column into 'latitude' and 'longitude'\n",
    "places_df[['latitude', 'longitude']] = places_df['coordinates'].str.split(',', expand=True)\n",
    "\n",
    "# Convert latitude and longitude to float\n",
    "places_df['latitude'] = pd.to_numeric(places_df['latitude'], errors='coerce')\n",
    "places_df['longitude'] = pd.to_numeric(places_df['longitude'], errors='coerce')"
   ]
  },
  {
   "cell_type": "markdown",
   "id": "e0510f4b",
   "metadata": {},
   "source": [
    "## Überblick Dataframe"
   ]
  },
  {
   "cell_type": "code",
   "execution_count": null,
   "id": "9b7c1a4a",
   "metadata": {},
   "outputs": [],
   "source": [
    "# Overview of main dataframe\n",
    "printmd(f\"Information of letters-df: \\n\")\n",
    "print(df.info())\n",
    "printmd(f\"Head of letters-df: \\n\")\n",
    "print(df.head())\n",
    "printmd(f\"Information of place-register-df:  \\n\")\n",
    "print(places_df.info())\n",
    "printmd(f\"Head of place-register-df: \\n\")\n",
    "print(places_df.head())"
   ]
  },
  {
   "cell_type": "markdown",
   "id": "369c284d",
   "metadata": {},
   "source": [
    "## Datenexploration\n",
    "### Persons"
   ]
  },
  {
   "cell_type": "code",
   "execution_count": null,
   "id": "7fa84c18",
   "metadata": {},
   "outputs": [],
   "source": [
    "# Total letters in dataset\n",
    "total_letters = df.shape[0]\n",
    "printmd(f\"**Total number of letters:** {total_letters}\")\n",
    "\n",
    "# Letters from Lassberg\n",
    "lassberg_letters = df[df['SENT_FROM_NAME'] == 'Joseph von Laßberg'].shape[0]\n",
    "printmd(f\"**Letters written by Joseph von Laßberg:** {lassberg_letters} ({int(lassberg_letters/total_letters*100)} %)\")\n",
    "printmd(f\"**Letters written by others:** {3265 - lassberg_letters} ({int(100 - (lassberg_letters/total_letters*100))} %)\")\n",
    "\n",
    "# Unique correspondences\n",
    "unique_correspondences = pd.concat([df['SENT_FROM_ID'], df['RECIVED_BY_ID']]).drop_duplicates().shape[0]\n",
    "printmd(f\"**Unique correspondences:** {unique_correspondences - 1}\")"
   ]
  },
  {
   "cell_type": "code",
   "execution_count": null,
   "id": "86956a18",
   "metadata": {},
   "outputs": [],
   "source": [
    "# Top 20 correspondence differenciated in sending and recieving\n",
    "# Count letters\n",
    "from_counts = df['SENT_FROM_NAME'].value_counts()\n",
    "to_counts = df['RECIVED_BY_NAME'].value_counts()\n",
    "\n",
    "# Combining counts and sorting\n",
    "total_counts = from_counts.add(to_counts, fill_value=0).sort_values(ascending=False)\n",
    "\n",
    "# Get top 20 participants\n",
    "top_20_participants = total_counts.head(20)\n",
    "\n",
    "# Display 'from', 'to', and total counts for top 20 participants\n",
    "printmd(\"**Top 20 participants in correspondence:**\\n\")\n",
    "for participant in top_20_participants.index:\n",
    "    from_count = from_counts.get(participant, 0)\n",
    "    to_count = to_counts.get(participant, 0)\n",
    "    total_count = top_20_participants[participant]\n",
    "    printmd(f\"**{participant}** *{from_count}* sent, *{to_count}* recieved, *total: {int(total_count)}*\")\n",
    "    \n",
    "# Get Median\n",
    "median = total_counts.median()\n",
    "printmd(f\"**Median number of letters per correspondence: {int(median)}**\")"
   ]
  },
  {
   "cell_type": "code",
   "execution_count": null,
   "id": "39b17dc1",
   "metadata": {},
   "outputs": [],
   "source": [
    "# Top 20 correspondence ordered by sent letters\n",
    "\n",
    "# Get top 20 participants\n",
    "top_20_participants = from_counts.head(20)\n",
    "\n",
    "# Display 'from', 'to', and total counts for top 20 participants\n",
    "printmd(\"**Top 20 participants in correspondence ordered by number of sent letters:**\\n\")\n",
    "for participant in top_20_participants.index:\n",
    "    from_count = from_counts.get(participant, 0)\n",
    "    to_count = to_counts.get(participant, 0)\n",
    "    total_count = top_20_participants[participant]\n",
    "    printmd(f\"**{participant}** *{from_count}* sent, *{to_count}* recieved, *{total_count}*\")"
   ]
  },
  {
   "cell_type": "code",
   "execution_count": null,
   "id": "b7d9c5bf",
   "metadata": {},
   "outputs": [],
   "source": [
    "# Top 20 correspondence receiving\n",
    "\n",
    "# Get top 20 participants\n",
    "top_20_participants = to_counts.head(20)\n",
    "\n",
    "# Display 'from', 'to', and total counts for top 20 participants\n",
    "printmd(\"**Top 20 participants in correspondence ordered by received letters:**\\n\")\n",
    "for participant in top_20_participants.index:\n",
    "    from_count = from_counts.get(participant, 0)\n",
    "    to_count = to_counts.get(participant, 0)\n",
    "    total_count = top_20_participants[participant]\n",
    "    printmd(f\"**{participant}** *{from_count}* sent, *{to_count}* recieved, *{total_count}*\")"
   ]
  },
  {
   "cell_type": "markdown",
   "id": "492962a2",
   "metadata": {},
   "source": [
    "### Places"
   ]
  },
  {
   "cell_type": "code",
   "execution_count": null,
   "id": "7af9fce0",
   "metadata": {
    "tags": []
   },
   "outputs": [],
   "source": [
    "sent_from_counts = df['Absendeort'].value_counts()\n",
    "\n",
    "# Unique places\n",
    "unique_places = df[['Absendeort']].drop_duplicates().shape[0]\n",
    "printmd(f\"**Unique places:** {unique_places}\")\n",
    "\n",
    "# Display the result\n",
    "print(sent_from_counts.head(50))"
   ]
  },
  {
   "cell_type": "code",
   "execution_count": null,
   "id": "5b46fdfd",
   "metadata": {
    "tags": []
   },
   "outputs": [],
   "source": [
    "# Create interactive map (not displayed on Github)\n",
    "# merge place register with dataset\n",
    "df_for_map = pd.merge(df, places_df, left_on='Absendeort_id', right_on='place_id', how='left')\n",
    "\n",
    "# Ensure latitude and longitude are numeric\n",
    "#merged_df['latitude'] = pd.to_numeric(merged_df['latitude'], errors='coerce')\n",
    "#merged_df['longitude'] = pd.to_numeric(merged_df['longitude'], errors='coerce')\n",
    "\n",
    "# Remove rows with missing or invalid coordinates\n",
    "valid_locations = df_for_map.dropna(subset=['latitude', 'longitude'])\n",
    "\n",
    "# Create a Map instance\n",
    "m = Map(center=(50, 10), zoom=4)  # Adjust the center and zoom level\n",
    "\n",
    "# Create different icons for sent and received letters\n",
    "icon_sent_from_by_lassberg = AwesomeIcon(\n",
    "    name = 'fa-paper-plane',\n",
    "    marker_color='red',\n",
    "    icon_color='black',\n",
    "    spin=False\n",
    ")\n",
    "icon_sent_from_to_lassberg = AwesomeIcon(\n",
    "    name = 'fa-paper-plane',\n",
    "    marker_color='blue',\n",
    "    icon_color='black',\n",
    "    spin=False\n",
    ")\n",
    "\n",
    "# Create markers and add them to a MarkerCluster\n",
    "markers = []\n",
    "for _, row in valid_locations.iterrows():\n",
    "    message_popoup = HTML()\n",
    "    message_popoup.value = f\"Letter from {row['SENT_FROM_NAME']} to {row['RECIVED_BY_NAME']} dated {row['Datum']}, Harris: {row['Nummer_Harris']}, ID: {row['ID']}\"\n",
    "    \n",
    "    if row['SENT_FROM_ID'] == 'lassberg-correspondent-0373':\n",
    "        marker = Marker(icon=icon_sent_from_by_lassberg, location=(row['latitude'], row['longitude']))\n",
    "    else:\n",
    "        marker = Marker(icon=icon_sent_from_to_lassberg, location=(row['latitude'], row['longitude']))\n",
    "    marker.popup = message_popoup\n",
    "    markers.append(marker)\n",
    "\n",
    "marker_cluster = MarkerCluster(markers=markers)\n",
    "m.add_layer(marker_cluster)\n",
    "\n",
    "# Display the map\n",
    "printmd(f\"Kartographische Darstellung der Absendeort (Blau = Brief an Laßberg, Rot = Brief von Laßberg): \\n\")\n",
    "m"
   ]
  },
  {
   "cell_type": "code",
   "execution_count": null,
   "id": "f549b126",
   "metadata": {},
   "outputs": [],
   "source": [
    "\n"
   ]
  }
 ],
 "metadata": {
  "kernelspec": {
   "display_name": "Python 3 (ipykernel)",
   "language": "python",
   "name": "python3"
  },
  "language_info": {
   "codemirror_mode": {
    "name": "ipython",
    "version": 3
   },
   "file_extension": ".py",
   "mimetype": "text/x-python",
   "name": "python",
   "nbconvert_exporter": "python",
   "pygments_lexer": "ipython3",
   "version": "3.11.5"
  }
 },
 "nbformat": 4,
 "nbformat_minor": 5
}
